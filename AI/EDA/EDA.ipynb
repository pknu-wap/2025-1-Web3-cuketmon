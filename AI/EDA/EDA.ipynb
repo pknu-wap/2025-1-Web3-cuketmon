{
 "cells": [
  {
   "cell_type": "markdown",
   "id": "a88eb71c",
   "metadata": {},
   "source": [
    "- pokemon_data.csv - 포켓몬의 다양한 정보를 가진 원본 csv 파일\n",
    "- description.csv - GPT를 이용해 포켓몬 당 설명 3개 저장한 csv 파일\n",
    "\n",
    "1. pokemon_data.csv의 name 열은 lower case로 저장되어 있음.\n",
    "2. description.csv와 가끔 명칭이 다른 포켓몬이 있음.\n",
    "\n",
    "위 두가지를 전처리"
   ]
  },
  {
   "cell_type": "code",
   "execution_count": 7,
   "id": "72d26833",
   "metadata": {},
   "outputs": [
    {
     "name": "stdout",
     "output_type": "stream",
     "text": [
      "변환 완료: output.csv\n"
     ]
    }
   ],
   "source": [
    "import csv\n",
    "\n",
    "# input.txt 파일에서 읽기\n",
    "with open('descriptions.txt', 'r', encoding='utf-8') as infile:\n",
    "    lines = infile.readlines()\n",
    "\n",
    "# 결과를 저장할 리스트\n",
    "data = []\n",
    "\n",
    "for line in lines:\n",
    "    line = line.strip()\n",
    "    if ':' in line:  # en-dash (–) 사용 주의\n",
    "        name, description = line.split(':', 1)\n",
    "        name = name.strip()\n",
    "        description = description.strip()\n",
    "        data.append((name, description))\n",
    "\n",
    "# CSV 파일로 저장\n",
    "with open('output.csv', 'w', newline='', encoding='utf-8') as csvfile:\n",
    "    writer = csv.writer(csvfile)\n",
    "    writer.writerow(['name', 'description'])  # 헤더 쓰기\n",
    "    writer.writerows(data)\n",
    "\n",
    "print('변환 완료: output.csv')"
   ]
  },
  {
   "cell_type": "code",
   "execution_count": 8,
   "id": "7e8436a8",
   "metadata": {},
   "outputs": [
    {
     "name": "stdout",
     "output_type": "stream",
     "text": [
      "✅ name 컬럼을 소문자로 변환하여 description_lowercase.csv로 저장 완료!\n",
      "✅ output.csv에 없는 name 수: 0\n"
     ]
    }
   ],
   "source": [
    "import pandas as pd\n",
    "\n",
    "df_full = pd.read_csv('/home/pys/2025-1-Web3-cuketmon/AI/filtered_file.csv')\n",
    "df_desc = pd.read_csv('output.csv')\n",
    "\n",
    "df_desc['name'] = df_desc['name'].astype(str).str.lower()\n",
    "\n",
    "df_desc.to_csv('description_lowercase.csv', index=False)\n",
    "\n",
    "print(\"✅ name 컬럼을 소문자로 변환하여 description_lowercase.csv로 저장 완료!\")\n",
    "\n",
    "# name 컬럼만 추출 후 공백 제거\n",
    "names_full = set(df_full['name'].astype(str).str.strip())\n",
    "names_desc = set(df_desc['name'].astype(str).str.strip())\n",
    "\n",
    "# 차이 계산\n",
    "missing_in_desc = names_full - names_desc\n",
    "\n",
    "# 결과 출력\n",
    "print(f\"✅ output.csv에 없는 name 수: {len(missing_in_desc)}\")\n",
    "for name in sorted(missing_in_desc):\n",
    "    print(f\"{name}\")"
   ]
  },
  {
   "cell_type": "markdown",
   "id": "c5cde5c1",
   "metadata": {},
   "source": [
    "descrition.csv는 name에 3개의 열이 중복됨.\n",
    "name을 하나로 만들고 description 열을 3개 만들어서 전처리"
   ]
  },
  {
   "cell_type": "code",
   "execution_count": 9,
   "id": "82e471f6",
   "metadata": {},
   "outputs": [
    {
     "name": "stdout",
     "output_type": "stream",
     "text": [
      "✅ description_wide.csv 생성 완료 (description1~3 열 포함)\n"
     ]
    }
   ],
   "source": [
    "import pandas as pd\n",
    "\n",
    "# description.csv 불러오기\n",
    "df_desc = pd.read_csv('description_lowercase.csv')\n",
    "df_desc['name'] = df_desc['name'].str.lower()\n",
    "\n",
    "# 각 name마다 description을 리스트로 묶음\n",
    "grouped = df_desc.groupby('name')['description'].apply(list)\n",
    "\n",
    "# 리스트를 개별 열로 나눔\n",
    "max_desc = 1  # 최대 설명 개수\n",
    "df_wide = grouped.apply(lambda x: x[:max_desc] + [\"\"] * (max_desc - len(x))).apply(pd.Series)\n",
    "df_wide.columns = [f'description{i+1}' for i in range(max_desc)]\n",
    "df_wide = df_wide.reset_index()\n",
    "\n",
    "# 저장\n",
    "df_wide.to_csv('description_wide.csv', index=False)\n",
    "print(\"✅ description_wide.csv 생성 완료 (description1~3 열 포함)\")"
   ]
  },
  {
   "cell_type": "markdown",
   "id": "5cb3afbe",
   "metadata": {},
   "source": [
    "설명을 랜덤으로 pokemon_data.csv에 매핑"
   ]
  },
  {
   "cell_type": "code",
   "execution_count": 10,
   "id": "f390b871",
   "metadata": {},
   "outputs": [
    {
     "name": "stdout",
     "output_type": "stream",
     "text": [
      "✅ 각 행마다 prompt 생성 완료!\n"
     ]
    }
   ],
   "source": [
    "import random\n",
    "import pandas as pd\n",
    "\n",
    "# 1. 데이터 로드\n",
    "df_pokemon = pd.read_csv('/home/pys/2025-1-Web3-cuketmon/AI/filtered_file.csv')\n",
    "df_desc = pd.read_csv('description_wide.csv')  # name, description1~3\n",
    "\n",
    "# 2. description1만 사용\n",
    "desc_dict = df_desc.set_index('name')[['description1']].to_dict(orient='index')\n",
    "\n",
    "# 3. pokemon 데이터에 description1과 type을 합쳐서 prompt 생성\n",
    "def create_prompt(name, pokemon_type):\n",
    "    # description1 가져오기\n",
    "    entry = desc_dict.get(name)\n",
    "    if entry:\n",
    "        description = entry['description1']\n",
    "        # prompt 생성\n",
    "        return f\"a poketmon, type is {pokemon_type}, {description}\"\n",
    "    return \"\"\n",
    "\n",
    "# 4. 각 행에 대해 prompt 생성\n",
    "df_pokemon['description'] = df_pokemon.apply(\n",
    "    lambda row: create_prompt(row['name'], row['type']),\n",
    "    axis=1\n",
    ")\n",
    "\n",
    "# 5. 결과 저장\n",
    "df_pokemon.to_csv('pokemon_data_with_prompt.csv', index=False)\n",
    "print(\"✅ 각 행마다 prompt 생성 완료!\")\n"
   ]
  },
  {
   "cell_type": "code",
   "execution_count": 11,
   "id": "09896ce7",
   "metadata": {},
   "outputs": [
    {
     "name": "stdout",
     "output_type": "stream",
     "text": [
      "metadata.jsonl created with 3285 entries.\n"
     ]
    }
   ],
   "source": [
    "import pandas as pd\n",
    "import json\n",
    "import os\n",
    "\n",
    "# CSV 경로와 출력 경로 설정\n",
    "csv_path = \"pokemon_data_with_prompt.csv\"\n",
    "output_path = \"/mnt/nas-drive/pys/cuketmon/datasets/pokemon_images/metadata.jsonl\"\n",
    "\n",
    "# CSV 로드\n",
    "df = pd.read_csv(csv_path)\n",
    "\n",
    "# 필요한 열만 사용\n",
    "df = df[[\"image_filename\", \"description\"]].dropna()\n",
    "\n",
    "# JSONL 파일로 저장\n",
    "with open(output_path, \"w\", encoding=\"utf-8\") as f:\n",
    "    for _, row in df.iterrows():\n",
    "        entry = {\n",
    "            \"file_name\": \"/mnt/nas-drive/pys/cuketmon/datasets/pokemon_images/\"+row[\"image_filename\"],\n",
    "            \"text\": row[\"description\"]\n",
    "        }\n",
    "        f.write(json.dumps(entry, ensure_ascii=False) + \"\\n\")\n",
    "\n",
    "print(f\"metadata.jsonl created with {len(df)} entries.\")"
   ]
  },
  {
   "cell_type": "code",
   "execution_count": 12,
   "id": "3752c587",
   "metadata": {},
   "outputs": [
    {
     "name": "stdout",
     "output_type": "stream",
     "text": [
      "CSV 파일이 'image_filename' 기준으로 정렬되어 /mnt/nas-drive/pys/cuketmon/datasets/pokemon_data.csv 파일로 저장되었습니다.\n"
     ]
    }
   ],
   "source": [
    "import pandas as pd\n",
    "\n",
    "# 원본 CSV 파일 경로와 출력할 CSV 파일 경로를 지정합니다.\n",
    "input_csv = \"/mnt/nas-drive/pys/cuketmon/datasets/pokemon_data.csv\"       # 예: 입력 파일 이름\n",
    "output_csv = \"/mnt/nas-drive/pys/cuketmon/datasets/pokemon_data.csv\"     # 예: 정렬된 결과를 저장할 파일 이름\n",
    "\n",
    "# CSV 파일 읽기\n",
    "df = pd.read_csv(input_csv)\n",
    "\n",
    "# 'image_filename' 열을 기준으로 정렬 (오름차순 정렬)\n",
    "df_sorted = df.sort_values(by=\"image_filename\")\n",
    "\n",
    "# 정렬 결과를 새로운 CSV 파일로 저장 (인덱스는 저장하지 않음)\n",
    "df_sorted.to_csv(output_csv, index=False)\n",
    "\n",
    "print(\"CSV 파일이 'image_filename' 기준으로 정렬되어\", output_csv, \"파일로 저장되었습니다.\")\n"
   ]
  },
  {
   "cell_type": "markdown",
   "id": "d1abe89b",
   "metadata": {},
   "source": []
  },
  {
   "cell_type": "code",
   "execution_count": null,
   "id": "d996232f",
   "metadata": {},
   "outputs": [],
   "source": []
  }
 ],
 "metadata": {
  "kernelspec": {
   "display_name": "cuketmon",
   "language": "python",
   "name": "python3"
  },
  "language_info": {
   "codemirror_mode": {
    "name": "ipython",
    "version": 3
   },
   "file_extension": ".py",
   "mimetype": "text/x-python",
   "name": "python",
   "nbconvert_exporter": "python",
   "pygments_lexer": "ipython3",
   "version": "3.10.16"
  }
 },
 "nbformat": 4,
 "nbformat_minor": 5
}
