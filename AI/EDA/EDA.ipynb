{
 "cells": [
  {
   "cell_type": "markdown",
   "id": "a88eb71c",
   "metadata": {},
   "source": [
    "- pokemon_data.csv - 포켓몬의 다양한 정보를 가진 원본 csv 파일\n",
    "- description.csv - GPT를 이용해 포켓몬 당 설명 3개 저장한 csv 파일\n",
    "\n",
    "1. pokemon_data.csv의 name 열은 lower case로 저장되어 있음.\n",
    "2. description.csv와 가끔 명칭이 다른 포켓몬이 있음.\n",
    "\n",
    "위 두가지를 전처리"
   ]
  },
  {
   "cell_type": "code",
   "execution_count": null,
   "id": "7e8436a8",
   "metadata": {},
   "outputs": [
    {
     "name": "stdout",
     "output_type": "stream",
     "text": [
      "✅ name 컬럼을 소문자로 변환하여 description_lowercase.csv로 저장 완료!\n",
      "✅ description.csv에 없는 name 수: 0\n"
     ]
    }
   ],
   "source": [
    "import pandas as pd\n",
    "\n",
    "df_full = pd.read_csv('/mnt/nas-drive/pys/cuketmon/datasets/pokemon_data.csv')\n",
    "df_desc = pd.read_csv('description.csv')\n",
    "\n",
    "df_desc['name'] = df_desc['name'].astype(str).str.lower()\n",
    "\n",
    "df_desc.to_csv('description_lowercase.csv', index=False)\n",
    "\n",
    "print(\"✅ name 컬럼을 소문자로 변환하여 description_lowercase.csv로 저장 완료!\")\n",
    "\n",
    "# name 컬럼만 추출 후 공백 제거\n",
    "names_full = set(df_full['name'].astype(str).str.strip())\n",
    "names_desc = set(df_desc['name'].astype(str).str.strip())\n",
    "\n",
    "# 차이 계산\n",
    "missing_in_desc = names_full - names_desc\n",
    "\n",
    "# 결과 출력\n",
    "print(f\"✅ description.csv에 없는 name 수: {len(missing_in_desc)}\")\n",
    "for name in sorted(missing_in_desc):\n",
    "    print(f\"{name}\")"
   ]
  },
  {
   "cell_type": "markdown",
   "id": "c5cde5c1",
   "metadata": {},
   "source": [
    "descrition.csv는 name에 3개의 열이 중복됨.\n",
    "name을 하나로 만들고 description 열을 3개 만들어서 전처리"
   ]
  },
  {
   "cell_type": "code",
   "execution_count": null,
   "id": "82e471f6",
   "metadata": {},
   "outputs": [
    {
     "name": "stdout",
     "output_type": "stream",
     "text": [
      "✅ description_wide.csv 생성 완료 (description1~3 열 포함)\n"
     ]
    }
   ],
   "source": [
    "import pandas as pd\n",
    "\n",
    "# description.csv 불러오기\n",
    "df_desc = pd.read_csv('description_lowercase.csv')\n",
    "df_desc['name'] = df_desc['name'].str.lower()\n",
    "\n",
    "# 각 name마다 description을 리스트로 묶음\n",
    "grouped = df_desc.groupby('name')['description'].apply(list)\n",
    "\n",
    "# 리스트를 개별 열로 나눔\n",
    "max_desc = 3  # 최대 설명 개수\n",
    "df_wide = grouped.apply(lambda x: x[:max_desc] + [\"\"] * (max_desc - len(x))).apply(pd.Series)\n",
    "df_wide.columns = [f'description{i+1}' for i in range(max_desc)]\n",
    "df_wide = df_wide.reset_index()\n",
    "\n",
    "# 저장\n",
    "df_wide.to_csv('description_wide.csv', index=False)\n",
    "print(\"✅ description_wide.csv 생성 완료 (description1~3 열 포함)\")"
   ]
  },
  {
   "cell_type": "markdown",
   "id": "5cb3afbe",
   "metadata": {},
   "source": [
    "설명을 랜덤으로 pokemon_data.csv에 매핑"
   ]
  },
  {
   "cell_type": "code",
   "execution_count": null,
   "id": "f390b871",
   "metadata": {},
   "outputs": [
    {
     "name": "stdout",
     "output_type": "stream",
     "text": [
      "✅ 각 행마다 랜덤 description 추가 완료!\n"
     ]
    }
   ],
   "source": [
    "# 1. Load 데이터\n",
    "df_pokemon = pd.read_csv('/mnt/nas-drive/pys/cuketmon/datasets/pokemon_data.csv')\n",
    "df_desc = pd.read_csv('description_wide.csv')  # name, description1~3\n",
    "\n",
    "# 2. description1~3 중 랜덤으로 고를 준비\n",
    "# name → [description1, description2, description3] 구조로 딕셔너리 만들기\n",
    "desc_dict = df_desc.set_index('name')[['description1', 'description2', 'description3']].to_dict(orient='index')\n",
    "\n",
    "# 3. pokemon 데이터에 각 행마다 랜덤 설명 넣기\n",
    "def get_random_description(name):\n",
    "    entry = desc_dict.get(name)\n",
    "    if entry:\n",
    "        options = [entry['description1'], entry['description2'], entry['description3']]\n",
    "        options = [desc for desc in options if pd.notna(desc) and desc != \"\"]\n",
    "        return random.choice(options) if options else \"\"\n",
    "    return \"\"\n",
    "\n",
    "df_pokemon['description'] = df_pokemon['name'].apply(get_random_description)\n",
    "\n",
    "# 4. 저장\n",
    "df_pokemon.to_csv('pokemon_data_with_random_description.csv', index=False)\n",
    "print(\"✅ 각 행마다 랜덤 description 추가 완료!\")"
   ]
  },
  {
   "cell_type": "code",
   "execution_count": null,
   "id": "09896ce7",
   "metadata": {},
   "outputs": [],
   "source": []
  }
 ],
 "metadata": {
  "kernelspec": {
   "display_name": "cuketmon",
   "language": "python",
   "name": "python3"
  },
  "language_info": {
   "codemirror_mode": {
    "name": "ipython",
    "version": 3
   },
   "file_extension": ".py",
   "mimetype": "text/x-python",
   "name": "python",
   "nbconvert_exporter": "python",
   "pygments_lexer": "ipython3",
   "version": "3.10.16"
  }
 },
 "nbformat": 4,
 "nbformat_minor": 5
}
